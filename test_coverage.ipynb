{
 "cells": [
  {
   "cell_type": "code",
   "execution_count": null,
   "id": "df3262db",
   "metadata": {},
   "outputs": [],
   "source": [
    "from os import path\n",
    "from PIL import Image\n",
    "from colorthief import ColorThief\n",
    "import matplotlib.pyplot as plt\n",
    "import numpy as np\n",
    "\n",
    "DATAPATH = './nolabels'\n",
    "\n",
    "image_paths = [\n",
    "    ('kishan_bagh_nolabels.png', 19.23), # 2 green shades\n",
    "    ('firewood_consumption_nolabels.png', 8.038), # 1 shade works\n",
    "    ('rao_jodha1_nolabels.png', 16.58), # 1 shade works\n",
    "    ('auroraville_botanical_gardens_nolabels.png', 78.63), # Prefer only second\n",
    "    ('la_joya_nolabels.png', 92.01), # 1 green shade\n",
    "    ('jussara_nolabels.png', 85.83) # 2 green shades\n",
    "]\n",
    "\n",
    "DEFORESTATION_PATH = './deforestation'\n",
    "\n",
    "deforestation_paths = [\n",
    "    'deforestation_0.png',\n",
    "    'deforestation_1.png',\n",
    "    'deforestation_2.png'\n",
    "]\n",
    "     \n",
    "PALETTE_SIZE = 6\n",
    "MOST_GREEN = 2"
   ]
  },
  {
   "cell_type": "code",
   "execution_count": null,
   "id": "db583df5",
   "metadata": {},
   "outputs": [],
   "source": [
    "def greenness_rgb(color):\n",
    "    r, g, b = color\n",
    "    #return g/max(1,b) + g/max(1,r) # custom greenness\n",
    "    return -np.linalg.norm(np.array((0, 255, 0)) - np.array(color)) # DtP greenness\n",
    "\n",
    "greenness_rgb((33, 59, 27))\n",
    "\n",
    "def percentage_crop(percentage):\n",
    "    string = str(percentage)\n",
    "\n",
    "    if len(string) < 6:\n",
    "        return string\n",
    "    else:\n",
    "        return string[:5]\n",
    "    "
   ]
  },
  {
   "cell_type": "code",
   "execution_count": null,
   "id": "b4c5abf4",
   "metadata": {},
   "outputs": [],
   "source": [
    "def tree_coverage(image_path: str):\n",
    "    image = Image.open(image_path)\n",
    "    ct = ColorThief(image_path)\n",
    "    palette = ct.get_palette(color_count=PALETTE_SIZE)\n",
    "    palette.sort(key = lambda x: greenness_rgb(x), reverse = True)\n",
    "\n",
    "    # This dict will be used to determine which of the MOST_GREEN colors will be used\n",
    "    used_colors = {i: True for i in range(MOST_GREEN)}\n",
    "    \n",
    "    for i in range(MOST_GREEN):\n",
    "        r, g, b = palette[i]\n",
    "        if r > g or b > g:\n",
    "            used_colors[i] = False\n",
    "    \n",
    "    print(palette)\n",
    "    \n",
    "    image_copy = image.copy()\n",
    "    image_size = image.width * image.height\n",
    "\n",
    "    for row_nr in range(image_copy.height):\n",
    "        for col_nr in range(image_copy.width):\n",
    "            position = (col_nr, row_nr)\n",
    "            pixel = image.getpixel(position)\n",
    "\n",
    "            norm_func = lambda color: np.linalg.norm(np.array(color) - np.array(pixel))\n",
    "            best_fit = tuple(palette[np.argmin(np.array(list(map(norm_func, palette))))])\n",
    "\n",
    "            image_copy.putpixel(position, best_fit)\n",
    "\n",
    "\n",
    "    image_copy.save(image_path.split('.')[0] + \"new.png\")\n",
    "    image_to_list = list(image_copy.getdata())\n",
    "\n",
    "    #display(image_copy)\n",
    "    \n",
    "    image_to_list = list(image_copy.getdata())\n",
    "    percentage_list = []\n",
    "\n",
    "    for i in range(MOST_GREEN):\n",
    "        if used_colors[i]:\n",
    "            percentage_list.append(100 * image_to_list.count(palette[i]) / image_size)\n",
    "\n",
    "            print(f'Percentage of palette[{i}]: {percentage_crop(percentage_list[-1])}%')\n",
    "\n",
    "    \n",
    "\n",
    "    print(f'Total coverage: {percentage_crop(sum(percentage_list))}%')\n",
    "    return sum(percentage_list)"
   ]
  },
  {
   "cell_type": "code",
   "execution_count": null,
   "id": "202cc5e3",
   "metadata": {},
   "outputs": [],
   "source": [
    "# TEST\n",
    "\n",
    "for file, correct_coverage in image_paths:\n",
    "    coverage = tree_coverage(path.join(DATAPATH, file))\n",
    "    if abs(coverage - correct_coverage) < 4:\n",
    "        print(f'{file}: Measured correctly')\n",
    "    else:\n",
    "        print(f'{file}: Measured incorrectly')"
   ]
  },
  {
   "cell_type": "code",
   "execution_count": null,
   "id": "7cf70bb9",
   "metadata": {},
   "outputs": [],
   "source": [
    "# 5 colors, 2 greens, custom greenness and no throwaway: 3/6\n",
    "# 6 colors, 2 greens, custom greenness and no throwaway: 5/6\n",
    "# 5 colors, 2 greens, custom greenness and throwaway: 4/6\n",
    "# 6 colors, 2 greens, custom greenness and throwaway: 4/6\n",
    "\n",
    "# 5 colors, 2 greens, DtP greenness and no throwaway: 3/6\n",
    "# 6 colors, 2 greens, DtP greenness and no throwaway: 3/6\n",
    "# 5 colors, 2 greens, DtP greenness and throwaway: 4/6\n",
    "# 6 colors, 2 greens, DtP greenness and throwaway: 3/6"
   ]
  },
  {
   "cell_type": "code",
   "execution_count": null,
   "id": "5c97c716",
   "metadata": {},
   "outputs": [],
   "source": [
    "deforestation_coverages = [tree_coverage(path.join(DEFORESTATION_PATH, file)) for file in deforestation_paths]"
   ]
  },
  {
   "cell_type": "code",
   "execution_count": null,
   "id": "abd02e01",
   "metadata": {},
   "outputs": [],
   "source": [
    "print(deforestation_coverages)"
   ]
  }
 ],
 "metadata": {
  "kernelspec": {
   "display_name": "Python 3 (ipykernel)",
   "language": "python",
   "name": "python3"
  },
  "language_info": {
   "codemirror_mode": {
    "name": "ipython",
    "version": 3
   },
   "file_extension": ".py",
   "mimetype": "text/x-python",
   "name": "python",
   "nbconvert_exporter": "python",
   "pygments_lexer": "ipython3",
   "version": "3.10.7"
  }
 },
 "nbformat": 4,
 "nbformat_minor": 5
}
